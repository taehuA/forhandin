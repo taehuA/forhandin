{
 "cells": [
  {
   "cell_type": "markdown",
   "metadata": {},
   "source": [
    "# Assignment 3 - Data Cleaning and Analysis\n",
    "\n",
    "이번 과제에서 학생들은 주어진 데이터를 clean up 하고 분석하는 연습을 하게 될 것이다.\n",
    "\n",
    "두개의 지정된 질문에 대한 답을 하여야 하고 세개의 질문을 스스로 만들어 코드와 함께 결과를 제시한다.\n",
    "\n",
    "* 제출 방법: GitHub (10/21 자정까지)\n",
    "* 파일 이름: A3-학번-이름(영어로).iphynb 형식으로 (예: A3-13403-999-jiyoon.iphynb)"
   ]
  },
  {
   "cell_type": "markdown",
   "metadata": {},
   "source": [
    "### Dataset\n",
    "\n",
    "타이타닉호의 모든 승객, 승무원의 정보와 생존자, 사망자 정보는 다음의 웹사이트에 잘 정리되어있다.\n",
    "* http://biostat.mc.vanderbilt.edu/wiki/pub/Main/DataSets/titanic.html\n",
    "\n",
    "본 과제에서 제시하는 데이터는 해당 웹사이트의 정보를 담고 있다. 다음의 데이터를 다운로드하여 분석하고 아래의 질문에 답하시오.\n",
    "* 데이터: http://biostat.mc.vanderbilt.edu/wiki/pub/Main/DataSets/titanic3.xls\n",
    "* 데이터 설명: http://biostat.mc.vanderbilt.edu/wiki/pub/Main/DataSets/titanic.html\n",
    "* 데이터 변수 설명: http://biostat.mc.vanderbilt.edu/wiki/pub/Main/DataSets/titanic3info.txt"
   ]
  },
  {
   "cell_type": "markdown",
   "metadata": {},
   "source": [
    "### Q1: 생존자와 사망자의 평균 나이를 남녀를 구분하여 계산하시오."
   ]
  },
  {
   "cell_type": "code",
   "execution_count": null,
   "metadata": {},
   "outputs": [],
   "source": [
    "import pandas as pd\n",
    "import numpy as np\n",
    "\n",
    "data = pd.read_csv(\"data/titanic3.csv\")\n",
    "\n",
    "data['survived_tf'] = data.survived.apply(lambda e: e == 1)\n",
    "\n",
    "for (survive, sex), group_data in data.groupby([\"survived_tf\", \"sex\"]):\n",
    "    print(\"생존: {}, 성별: {}, 평균나이: {}\".format(survive, sex, np.mean(group_data.age)))"
   ]
  },
  {
   "cell_type": "markdown",
   "metadata": {},
   "source": [
    "### Q2: 생존자의 평균 티켓 가격과 사망자의 평균 티켓 가격을 구하고 비교하시오."
   ]
  },
  {
   "cell_type": "code",
   "execution_count": null,
   "metadata": {},
   "outputs": [],
   "source": [
    "data1 = data[data.fare != 0]\n",
    "\n",
    "for survive, group_data in data1.groupby(\"survived_tf\"):\n",
    "    print(\"생존: {}, 평균 티켓 가격: {}\".format(survive, np.mean(group_data.fare)))"
   ]
  },
  {
   "cell_type": "markdown",
   "metadata": {},
   "source": [
    "### Q3: 탑승객의 객실등급에 따른 생존율."
   ]
  },
  {
   "cell_type": "code",
   "execution_count": null,
   "metadata": {},
   "outputs": [],
   "source": [
    "for pcl, group_data in data.groupby(\"pclass\"):\n",
    "    print(\"{}등석:, {}\".format(pcl, np.mean(group_data.survived)))"
   ]
  },
  {
   "cell_type": "markdown",
   "metadata": {},
   "source": [
    "### Q4: 탑승항구에 다른 생존율."
   ]
  },
  {
   "cell_type": "code",
   "execution_count": null,
   "metadata": {},
   "outputs": [],
   "source": [
    "data.embarked = data.embarked.replace('C', 'Cherbourg')\n",
    "data.embarked = data.embarked.replace('Q', 'Queenstown')\n",
    "data.embarked = data.embarked.replace('S', 'Southampton')\n",
    "\n",
    "\n",
    "for emb, group_data in data.groupby(\"embarked\"):\n",
    "    print(\"{}: {}\".format(emb, np.mean(group_data.survived)))"
   ]
  },
  {
   "cell_type": "markdown",
   "metadata": {},
   "source": [
    "### Q5: 가족과 함께 탄 사람들과, 그렇지 않은 사람들과의 생존율 비교 (가족과 함께한 12세 미만아동의 생존률)"
   ]
  },
  {
   "cell_type": "code",
   "execution_count": null,
   "metadata": {},
   "outputs": [],
   "source": [
    "alone = (data.sibsp == 0) & (data.parch == 0)\n",
    "withs = (data.sibsp != 0) & (data.parch != 0)\n",
    "print(\"가족과 함께 탄 사람들의 생존율은 {}, 그렇지 않은 사람들의 생존율은 {}\".\n",
    "      format(np.mean(data[withs].survived), np.mean(data[alone].survived)))\n",
    "\n",
    "child = (data.age < 12) & withs\n",
    "print(\"그 중 가족과 함께 탄 12세 미만 아동의 생존율은 {}\".format(np.mean(data[child].survived)))"
   ]
  }
 ],
 "metadata": {
  "kernelspec": {
   "display_name": "Python 3",
   "language": "python",
   "name": "python3"
  },
  "language_info": {
   "codemirror_mode": {
    "name": "ipython",
    "version": 3
   },
   "file_extension": ".py",
   "mimetype": "text/x-python",
   "name": "python",
   "nbconvert_exporter": "python",
   "pygments_lexer": "ipython3",
   "version": "3.7.0"
  }
 },
 "nbformat": 4,
 "nbformat_minor": 1
}
