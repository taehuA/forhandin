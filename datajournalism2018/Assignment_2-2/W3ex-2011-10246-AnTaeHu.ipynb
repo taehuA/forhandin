{
 "cells": [
  {
   "cell_type": "markdown",
   "metadata": {},
   "source": [
    "### Week 3 - Exercise\n",
    "\n",
    "* 제출 방법: GitHub (다음 주 일요일 9/30 자정까지)\n",
    "* 파일 이름: W3ex-학번-이름(영어로).iphynb 형식으로 (예: W3ex-13403-999-jiyoon.iphynb)"
   ]
  },
  {
   "cell_type": "markdown",
   "metadata": {},
   "source": [
    "#1. 다음을 출력하는 프로그램을 작성하시오.\n",
    "\n",
    "> **100** little **monkeys** jumping on the bed.\n",
    "\n",
    "> One fell off and broke his head. \n",
    "\n",
    "> **Mama(or Daddy)** called the doctor and the doctor said, \"No more monkeys jumping on the bed!\"\n",
    "\n",
    "> ...\n",
    "\n",
    "> ... \n",
    "\n",
    "> **1** little **monkey** jumping on the bed. \n",
    "\n",
    "> One fell off and broke his head. \n",
    "\n",
    "> **Mama(or Daddy)** called the doctor and the doctor said, \n",
    "\n",
    "> \"No more monkeys jumping on the bed!\" \n",
    "\n",
    "(참고) Mama 혹은 Daddy를 랜돔하게 선택하게 하자."
   ]
  },
  {
   "cell_type": "code",
   "execution_count": 20,
   "metadata": {},
   "outputs": [
    {
     "name": "stdout",
     "output_type": "stream",
     "text": [
      "36 little monkeys jumping on the bed. \n",
      "One fell off and broke her head. \n",
      "Daddy called the doctor and the doctor said, \n",
      "No more monkeys jumping on the bed!\n"
     ]
    }
   ],
   "source": [
    "import random\n",
    "num_monkey = random.randrange(1,101)\n",
    "parent = [\"Mama\", \"Daddy\"]\n",
    "sex = [\"his\", \"her\"]\n",
    "pl = [\"monkey\", \"monkeys\"]\n",
    "\n",
    "if num_monkey > 1:\n",
    "    pl1 = pl[1]\n",
    "else:\n",
    "    pl1 = pl[0]\n",
    "\n",
    "print(str(num_monkey) + \" little \" + pl1 +\" jumping on the bed. \\n\" \n",
    "      + \"One fell off and broke \" + random.choice(sex) + \" head. \\n\" \n",
    "      + random.choice(parent) + \" called the doctor and the doctor said, \\n\" \n",
    "      + \"No more monkeys jumping on the bed!\")\n"
   ]
  },
  {
   "cell_type": "markdown",
   "metadata": {},
   "source": [
    "#2. 시작하는 연도와 끝나는 연도를 물어보는 프로그램을 작성 하고, 그 사이에 있는 모든 윤년을 출력하라. \n",
    "\n",
    "(시작하는 연도와 끝나는 연도가 윤년이면 그 해도 출력) \n",
    "\n",
    "* 윤년은 4로 나누어짐 (예: 1984, 2012)\n",
    "* 100으로 나누어지면 윤년이 아님 (예: 1800, 1900) \n",
    "* 윤년은 400으로 나누어짐 (예: 1600, 2000) \n",
    "\n",
    "> Pick a starting year (like 1973 or something): 1973\n",
    "\n",
    "> Now pick an ending year: 1977 \n",
    "\n",
    "> Check it out... these years are leap years: 1976 \n",
    "\n",
    "(참고) 윤년 리스트: http://mwultong.blogspot.com/2005/12/18002300-leap-year-list.html"
   ]
  },
  {
   "cell_type": "code",
   "execution_count": 34,
   "metadata": {},
   "outputs": [
    {
     "name": "stdout",
     "output_type": "stream",
     "text": [
      "Pick a starting year (like 1973 or something): 1972\n",
      "Now pick an ending year: 2008\n",
      "check it out... these years are leap years: [1972, 1976, 1980, 1984, 1988, 1992, 1996, 2004, 2008]\n"
     ]
    }
   ],
   "source": [
    "starting_year = int(input(\"Pick a starting year (like 1973 or something): \"))\n",
    "ending_year = int(input(\"Now pick an ending year: \"))\n",
    "\n",
    "leap_year = []\n",
    "for i in range(starting_year, ending_year + 1):\n",
    "    if i % 4 == 0:\n",
    "        leap_year.append(i)\n",
    "for i in leap_year:\n",
    "    if i % 100 == 0:\n",
    "        leap_year.remove(i)\n",
    "for i in leap_year:\n",
    "    if i % 400 == 0:\n",
    "        leap_year.append(i)\n",
    "        \n",
    "print(\"check it out... these years are leap years: \" + str(leap_year))        "
   ]
  },
  {
   "cell_type": "markdown",
   "metadata": {},
   "source": [
    "#3. 구구단을 출력하는 프로그램을 작성하고 결과를 txt 파일로 저장하시오."
   ]
  },
  {
   "cell_type": "code",
   "execution_count": 1,
   "metadata": {},
   "outputs": [],
   "source": [
    "f = open(\"gugu.txt\", \"w\", encoding = \"UTF-8\")\n",
    "\n",
    "for x in range(2, 10):\n",
    "    f.write(\"\\n\\n[ \" + str(x) + \"단 ]\")\n",
    "    for y in range(1, 10):\n",
    "        f.write(\"\\n\" + str(x) + \" X \"+ str(y) + \"=\" + str(x*y))\n",
    "        \n",
    "f.close()"
   ]
  }
 ],
 "metadata": {
  "kernelspec": {
   "display_name": "Python 3",
   "language": "python",
   "name": "python3"
  },
  "language_info": {
   "codemirror_mode": {
    "name": "ipython",
    "version": 3
   },
   "file_extension": ".py",
   "mimetype": "text/x-python",
   "name": "python",
   "nbconvert_exporter": "python",
   "pygments_lexer": "ipython3",
   "version": "3.7.0"
  }
 },
 "nbformat": 4,
 "nbformat_minor": 1
}
