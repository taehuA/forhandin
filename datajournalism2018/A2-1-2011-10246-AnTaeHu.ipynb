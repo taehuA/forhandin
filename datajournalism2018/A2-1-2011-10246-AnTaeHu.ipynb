{
 "cells": [
  {
   "cell_type": "markdown",
   "metadata": {},
   "source": [
    "# Assignment \\#2-1: Python Crash Course 1\n",
    "\n",
    "* 제출 방법: ETL (다음 주 일요일 9/23 자정까지)\n",
    "* 파일 이름: A2-1-학번-이름(영어로).iphynb 형식으로 (예: A2-1-13403-999-jiyoon.iphynb)"
   ]
  },
  {
   "cell_type": "markdown",
   "metadata": {},
   "source": [
    "#1. 다음의 프로그램을 작성하시오. (input()함수를 사용할 것)\n",
    "\n",
    "> 안녕하세요. 성을 입력해 주세요:  (성 입력의 예: 홍)\n",
    ">\n",
    "> 이름을 입력해 주세요:  (이름 입력의 예: 길동)\n",
    ">\n",
    "> 홍길동님의 나이는 몇살인가요: (나이 입력의 예: 30)\n",
    ">\n",
    "> 홍길동님은 지금까지 모두 ** xxxx **초를 살아왔군요.  \n",
    ">\n",
    "> 지금까지 이용해 주셔서 감사합니다. 홍길동님.\n",
    "\n",
    "(참고) 입력받은 나이는 숫자(int)가 아니라 문자열(string)임. 윤년 계산 등은 무시할 것."
   ]
  },
  {
   "cell_type": "code",
   "execution_count": null,
   "metadata": {},
   "outputs": [],
   "source": [
    "# 1.\n",
    "\n",
    "L = input(\"안녕하세요. 성을 입력해 주세요: \")\n",
    "F = input(\"이름을 입력해 주세요: \")\n",
    "name = str(L) + str(F)\n",
    "\n",
    "Old = input(name + \"님의 나이는 몇살인가요: \")\n",
    "seOld = int(Old) * 365 * 24 * 60 * 60\n",
    "\n",
    "print(name + \"님은 지금까지 모두 **\" + str(seOld) + \"**초를 살아왔군요.\")\n",
    "print(\"지금까지 이용해 주셔서 감사합니다. \" + str(name) + \"님.\")"
   ]
  },
  {
   "cell_type": "markdown",
   "metadata": {},
   "source": [
    "#2. 다음을 계산하는 메소드를 만들고 계산 예를 적으시오.\n",
    "\n",
    "> 섭씨 <-> 화씨 변환 \n",
    "\n",
    "> 인치 <-> 센치 변환\n",
    "\n",
    "출력의 예: \n",
    "\n",
    "> 섭씨 oo도는 화씨로 oo도 입니다.\n",
    "\n",
    "> oo인치는 oo센티미터 입니다.\n",
    "\n",
    "(참고) round() 함수를 사용해 보자: round() 함수는 지정한 소수점에서 반올림하여 결과를 표시한다.\n",
    "\n",
    "> round(3.954839283, 3) # 소수점 3째 자리에서 반올림\n",
    "\n",
    "> 3.955 "
   ]
  },
  {
   "cell_type": "code",
   "execution_count": 2,
   "metadata": {},
   "outputs": [
    {
     "name": "stdout",
     "output_type": "stream",
     "text": [
      "섭씨 36.5도는 화씨로 97.7도 입니다.\n",
      "화씨 80.7도는 섭씨로 27.1도 입니다.\n",
      "34인치는 86.36센티미터 입니다.\n",
      "17센티미터는 6.69인치 입니다.\n"
     ]
    }
   ],
   "source": [
    "# 화씨, 섭씨변환\n",
    "\n",
    "def C2F(C):\n",
    "    return round((C * 9/5 + 32), 1)\n",
    "\n",
    "def F2C(F):\n",
    "    return round(((F - 32) * 5/9), 1)\n",
    "\n",
    "\n",
    "C = 36.5\n",
    "F = 80.7\n",
    "\n",
    "print(\"섭씨 \" + str(C) + \"도는 화씨로 \" + str(C2F(C)) + \"도 입니다.\")\n",
    "print(\"화씨 \" + str(F) + \"도는 섭씨로 \" + str(F2C(F)) + \"도 입니다.\")\n",
    "\n",
    "# 인치, 센치변환\n",
    "\n",
    "def In2Ct(In):\n",
    "    return round((In * 2.54), 2)\n",
    "\n",
    "def Ct2In(Ct):\n",
    "    return round(Ct / 2.54, 2)\n",
    "\n",
    "In = 34\n",
    "Ct = 17\n",
    "\n",
    "print(str(In) + \"인치는 \" + str(In2Ct(In)) + \"센티미터 입니다.\")\n",
    "print(str(Ct) + \"센티미터는 \" + str(Ct2In(Ct)) + \"인치 입니다.\")\n",
    "\n",
    "\n"
   ]
  },
  {
   "cell_type": "markdown",
   "metadata": {},
   "source": [
    "#3. 다음을 출력하는 프로그램을 작성하시오.\n",
    "\n",
    "> 오늘은 oooo년 o월 o일, 크리스마스까지는 oo일 이나 남았네. 이 수업도 이제 oo번 밖에 안남았구나!"
   ]
  },
  {
   "cell_type": "code",
   "execution_count": null,
   "metadata": {},
   "outputs": [],
   "source": [
    "# 2.\n",
    "\n",
    "from datetime import datetime, date, time\n",
    "dt = datetime.now()\n",
    "\n",
    "yy = dt.year\n",
    "mm = dt.month\n",
    "dd = dt.day\n",
    "ct = datetime(2018, 12, 25)\n",
    "et = ct - dt\n",
    "cl = datetime(2018, 12, 14)\n",
    "wk1 = dt.isocalendar()[1]\n",
    "wk2 = cl.isocalendar()[1]\n",
    "\n",
    "print(\"오늘은 \" + str(yy) + \"년 \" + str(mm) + \"월 \" + str(dd) + \"일, \" \n",
    "      + \"크리스마스까지는 \" + str(et.days) + \"일 이나 남았네. \" \n",
    "      + \"이 수업도 이제 \" + str(wk2 - wk1) + \"번 밖에 안남았구나!\")"
   ]
  }
 ],
 "metadata": {
  "kernelspec": {
   "display_name": "Python 3",
   "language": "python",
   "name": "python3"
  },
  "language_info": {
   "codemirror_mode": {
    "name": "ipython",
    "version": 3
   },
   "file_extension": ".py",
   "mimetype": "text/x-python",
   "name": "python",
   "nbconvert_exporter": "python",
   "pygments_lexer": "ipython3",
   "version": "3.7.0"
  }
 },
 "nbformat": 4,
 "nbformat_minor": 1
}
