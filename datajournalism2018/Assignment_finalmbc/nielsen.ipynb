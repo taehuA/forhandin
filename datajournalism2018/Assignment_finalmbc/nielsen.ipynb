{
 "cells": [
  {
   "cell_type": "code",
   "execution_count": null,
   "metadata": {},
   "outputs": [],
   "source": [
    "#url_list 만들기\n",
    "\n",
    "import datetime       \n",
    "\n",
    "start_day = datetime.datetime(2015,12,1)   \n",
    "one_day = datetime.timedelta(days = 1)    \n",
    "end_day = datetime.datetime(2016,1,1)       \n",
    "\n",
    "url_list = []\n",
    "while start_day < end_day :\n",
    "    dtdt = start_day.strftime(\"%Y%m%d\")\n",
    "    url_list.append(\"https://www.nielsenkorea.co.kr/tv_terrestrial_day.asp?menu=Tit_1&sub_menu=1_1&area=00&begin_date={}\".format(dtdt))    \n",
    "    start_day = start_day + one_day"
   ]
  },
  {
   "cell_type": "code",
   "execution_count": null,
   "metadata": {},
   "outputs": [],
   "source": [
    "#크롤링해서 JSON에 저장(문제는 중복된 프로그램명은 낮은 시청률을 반영한다는 것, 보수적 접근)\n",
    "\n",
    "import urllib.request\n",
    "from bs4 import BeautifulSoup\n",
    "from collections import OrderedDict\n",
    "import json\n",
    "\n",
    "pn_list = []\n",
    "\n",
    "for base_url in url_list:\n",
    "    pnss = OrderedDict()\n",
    "    with urllib.request.urlopen(base_url) as url:\n",
    "    \n",
    "        doc = url.read()\n",
    "        soup = BeautifulSoup(doc, \"html.parser\")\n",
    "        names = soup.find_all(\"td\", class_=\"tb_txt\")\n",
    "        percents10 = soup.find_all(\"td\", class_=\"percent\")\n",
    "        percents20 = soup.find_all(\"td\", class_=\"percent_g\")\n",
    "    \n",
    "        name_list = []\n",
    "        percent_list = []\n",
    "        pnss[\"날짜\"] = base_url[-8:]\n",
    "        for name in names[0:20]:\n",
    "            name_list.append(name.text.strip())\n",
    "        for percent10 in percents10[0:10]:\n",
    "            percent_list.append(percent10.text.strip())\n",
    "        for percent20 in percents20[0:10]:\n",
    "            percent_list.append(percent20.text.strip())\n",
    "        for i in range(0,20):\n",
    "            pnss[name_list[i]] = percent_list[i]\n",
    "        \n",
    "\n",
    "    pn_list.append(pnss)\n",
    "    \n",
    "with open('rating2015_m12.json', 'w', encoding=\"utf-8\") as make_file:\n",
    "    json.dump(pn_list, make_file, ensure_ascii=False)"
   ]
  },
  {
   "cell_type": "code",
   "execution_count": null,
   "metadata": {
    "scrolled": true
   },
   "outputs": [],
   "source": [
    "#JSON을 불러와서 시청률평균 구해보기\n",
    "\n",
    "import json\n",
    "import numpy as np\n",
    "\n",
    "p_name_list = ['무한도전', \"황금어장라디오스타\", \"일밤(미스터리음악쇼복면가왕,리얼입대프로젝트진짜사나이2)\", \"마이리틀텔레비전\"]\n",
    "\n",
    "json_data = []\n",
    "with open(\"rating2015_m12.json\", encoding = \"UTF-8\") as file:\n",
    "    data = file.readlines()\n",
    "    for d in data:\n",
    "        json_data.append(json.loads(d))\n",
    "        \n",
    "for p_name in p_name_list: \n",
    "    p_rating = []\n",
    "    for i in range(0,len(json_data[0])):\n",
    "        if p_name in json_data[0][i].keys():\n",
    "            p_rating.append(float(json_data[0][i][p_name]))\n",
    "    print(p_name, np.mean(p_rating))"
   ]
  }
 ],
 "metadata": {
  "kernelspec": {
   "display_name": "Python 3",
   "language": "python",
   "name": "python3"
  },
  "language_info": {
   "codemirror_mode": {
    "name": "ipython",
    "version": 3
   },
   "file_extension": ".py",
   "mimetype": "text/x-python",
   "name": "python",
   "nbconvert_exporter": "python",
   "pygments_lexer": "ipython3",
   "version": "3.7.0"
  }
 },
 "nbformat": 4,
 "nbformat_minor": 1
}
